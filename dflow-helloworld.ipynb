{
 "cells": [
  {
   "cell_type": "markdown",
   "id": "c39ba0f6",
   "metadata": {},
   "source": [
    "# <a name=\"dispatcher-bohrium\"></a> Use DPDispatcher executor to submit jobs to Bohrium"
   ]
  },
  {
   "cell_type": "markdown",
   "id": "46c8409e",
   "metadata": {},
   "source": [
    "Define a Python OP"
   ]
  },
  {
   "cell_type": "code",
   "execution_count": 1,
   "id": "bf4691c3",
   "metadata": {},
   "outputs": [],
   "source": [
    "from pathlib import Path\n",
    "from dflow.python import OP, Artifact, PythonOPTemplate\n",
    "\n",
    "@OP.function\n",
    "def duplicate(num: int, foo: Artifact(Path)) -> {\"num\": int, \"bar\": Artifact(Path)}:\n",
    "    with open(foo, \"r\") as f:\n",
    "        content = f.read()\n",
    "    with open(\"bar.txt\", \"w\") as f:\n",
    "        f.write(content * 2)\n",
    "    return {\n",
    "        \"num\": num * 2,\n",
    "        \"bar\": Path(\"bar.txt\"),\n",
    "    }"
   ]
  },
  {
   "cell_type": "markdown",
   "id": "7009a264",
   "metadata": {},
   "source": [
    "Define a dispatcher executor"
   ]
  },
  {
   "cell_type": "code",
   "execution_count": 2,
   "id": "922d7c90",
   "metadata": {},
   "outputs": [],
   "source": [
    "from dflow.plugins.dispatcher import DispatcherExecutor\n",
    "\n",
    "dispatcher_executor = DispatcherExecutor(\n",
    "        machine_dict={\n",
    "            \"batch_type\": \"Bohrium\",\n",
    "            \"context_type\": \"Bohrium\",\n",
    "            \"remote_profile\": {\n",
    "                \"email\": \"<your-bohrium-email>\",\n",
    "                \"password\": \"<your-bohrium-password>\",\n",
    "                \"program_id\": 2426,\n",
    "                \"input_data\": {\n",
    "                    \"job_type\": \"container\",\n",
    "                    \"platform\": \"ali\",\n",
    "                },\n",
    "            },\n",
    "        },\n",
    "    )"
   ]
  },
  {
   "cell_type": "markdown",
   "id": "b396f8ed",
   "metadata": {},
   "source": [
    "Upload the input file"
   ]
  },
  {
   "cell_type": "code",
   "execution_count": 3,
   "id": "0fd9bdf4",
   "metadata": {},
   "outputs": [],
   "source": [
    "from dflow import upload_artifact\n",
    "\n",
    "with open(\"foo.txt\", \"w\") as f:\n",
    "    f.write(\"Hello\")\n",
    "art = upload_artifact(\"foo.txt\")"
   ]
  },
  {
   "cell_type": "markdown",
   "id": "948010a9",
   "metadata": {},
   "source": [
    "Instantiate a step with the dispatcher executor and the uploaded artifact"
   ]
  },
  {
   "cell_type": "code",
   "execution_count": 4,
   "id": "e1028047",
   "metadata": {},
   "outputs": [],
   "source": [
    "from dflow import Step\n",
    "\n",
    "step = Step(\n",
    "    name=\"step\",\n",
    "    template=PythonOPTemplate(duplicate, image=\"python:3.8\"),\n",
    "    parameters={\"num\": 3},\n",
    "    artifacts={\"foo\": art},\n",
    "    executor=dispatcher_executor,\n",
    ")"
   ]
  },
  {
   "cell_type": "markdown",
   "id": "88e2c217",
   "metadata": {},
   "source": [
    "Add step into a workflow"
   ]
  },
  {
   "cell_type": "code",
   "execution_count": 5,
   "id": "c5510220",
   "metadata": {},
   "outputs": [],
   "source": [
    "from dflow import Workflow\n",
    "\n",
    "wf = Workflow(name=\"dispatcher-bohrium\")\n",
    "wf.add(step)"
   ]
  },
  {
   "cell_type": "markdown",
   "id": "6a2aa4bf",
   "metadata": {},
   "source": [
    "Submit the workflow"
   ]
  },
  {
   "cell_type": "code",
   "execution_count": 6,
   "id": "fea0ef8b",
   "metadata": {},
   "outputs": [
    {
     "name": "stdout",
     "output_type": "stream",
     "text": [
      "Workflow has been submitted (ID: dispatcher-bohrium-5s5s8, UID: b6420324-f679-4f15-8029-c50464206f8e)\n"
     ]
    },
    {
     "data": {
      "text/plain": [
       "{'metadata': {'name': 'dispatcher-bohrium-5s5s8', 'generateName': 'dispatcher-bohrium-', 'namespace': 'argo', 'uid': 'b6420324-f679-4f15-8029-c50464206f8e', 'resourceVersion': '1948916', 'generation': 1, 'creationTimestamp': '2022-11-20T09:29:15Z', 'labels': {'workflows.argoproj.io/creator': 'system-serviceaccount-argo-argo-server'}, 'managedFields': [{'manager': 'argo', 'operation': 'Update', 'apiVersion': 'argoproj.io/v1alpha1', 'time': '2022-11-20T09:29:15Z', 'fieldsType': 'FieldsV1', 'fieldsV1': {'f:metadata': {'f:generateName': {}, 'f:labels': {'.': {}, 'f:workflows.argoproj.io/creator': {}}}, 'f:spec': {}, 'f:status': {}}}]}, 'spec': {'templates': [{'name': 'dispatcher-bohrium-steps', 'inputs': {}, 'outputs': {}, 'metadata': {}, 'steps': [[{'name': 'step', 'template': 'duplicate-i1yoq-ans39', 'arguments': {'parameters': [{'name': 'num', 'value': '3', 'description': '{\"type\": \"<class \\'int\\'>\"}'}], 'artifacts': [{'name': 'foo', 'path': '/tmp/inputs/artifacts/foo', 's3': {'key': 'upload/f24f16ed-12c1-495c-963e-001818d4af6f/tmpm534ejdx.tgz'}}, {'name': 'dflow_python_packages', 'path': '/tmp/inputs/artifacts/dflow_python_packages', 's3': {'key': 'upload/171ea35e-52a2-4abe-ba67-0997a325c96c/tmp9aqgzdds.tgz'}}]}, 'continueOn': {}}]]}, {'name': 'duplicate-i1yoq-ans39', 'inputs': {'parameters': [{'name': 'num', 'description': '{\"type\": \"<class \\'int\\'>\"}'}], 'artifacts': [{'name': 'foo', 'path': '/tmp/inputs/artifacts/foo'}, {'name': 'dflow_python_packages', 'path': '/tmp/inputs/artifacts/dflow_python_packages'}]}, 'outputs': {'parameters': [{'name': 'num', 'valueFrom': {'path': '/tmp/outputs/parameters/num', 'default': 'null'}, 'description': '{\"type\": \"<class \\'int\\'>\"}'}], 'artifacts': [{'name': 'bar', 'path': '/tmp/outputs/artifacts/bar'}]}, 'metadata': {'annotations': {'workflows.argoproj.io/progress': '0/1'}}, 'script': {'name': '', 'image': 'dptechnology/dpdispatcher', 'command': ['python3'], 'resources': {}, 'volumeMounts': [{'name': 'dflow-private-key', 'mountPath': '/root/.ssh'}], 'source': 'import os\\nos.chdir(\\'/\\')\\nwith open(\\'script\\', \\'w\\') as f:\\n    f.write(r\"\"\"\\nimport os, sys, json\\npackage_root = \\'/tmp/inputs/artifacts/dflow_python_packages\\'\\ncatalog_dir = os.path.join(package_root, \\'.dflow\\')\\nif os.path.exists(catalog_dir):\\n    for f in os.listdir(catalog_dir):\\n        with open(os.path.join(catalog_dir, f), \\'r\\') as fd:\\n            for item in json.load(fd)[\\'path_list\\']:\\n                sys.path.insert(0, os.path.join(package_root, os.path.dirname(item[\\'dflow_list_item\\'])))\\nimport json, jsonpickle\\nfrom dflow import config, s3_config\\nconfig.update(json.loads(\\'{\"host\": \"https://127.0.0.1:2746\", \"namespace\": \"argo\", \"token\": null, \"k8s_config_file\": null, \"k8s_api_server\": null, \"private_key_host_path\": \"/home/docker/.ssh\", \"save_path_as_parameter\": false, \"catalog_dir_name\": \".dflow\", \"archive_mode\": \"tar\", \"util_image\": \"python:3.8\", \"util_image_pull_policy\": null, \"extender_image\": \"dptechnology/dflow-extender\", \"extender_image_pull_policy\": null, \"dispatcher_image\": \"dptechnology/dpdispatcher\", \"dispatcher_image_pull_policy\": null, \"save_keys_in_global_outputs\": true, \"mode\": \"default\"}\\'))\\ns3_config.update(jsonpickle.loads(\\'{\"endpoint\": \"127.0.0.1:9000\", \"console\": \"http://127.0.0.1:9001\", \"access_key\": \"admin\", \"secret_key\": \"password\", \"secure\": false, \"bucket_name\": \"my-bucket\", \"repo_key\": null, \"repo\": null, \"repo_type\": \"s3\", \"repo_prefix\": \"\", \"prefix\": \"\", \"storage_client\": null}\\'))\\nimport cloudpickle\\nfrom dflow.python import OP\\nduplicate = OP.function(cloudpickle.loads(b\\'\\\\x80\\\\x05\\\\x95\\\\x91\\\\x03\\\\x00\\\\x00\\\\x00\\\\x00\\\\x00\\\\x00\\\\x8c\\\\x17cloudpickle.cloudpickle\\\\x94\\\\x8c\\\\x0e_make_function\\\\x94\\\\x93\\\\x94(h\\\\x00\\\\x8c\\\\r_builtin_type\\\\x94\\\\x93\\\\x94\\\\x8c\\\\x08CodeType\\\\x94\\\\x85\\\\x94R\\\\x94(K\\\\x02K\\\\x00K\\\\x00K\\\\x04K\\\\x08KCC|t\\\\x00|\\\\x01d\\\\x01\\\\x83\\\\x02\\\\x8f\\\\x18}\\\\x02|\\\\x02\\\\xa0\\\\x01\\\\xa1\\\\x00}\\\\x03W\\\\x00d\\\\x00\\\\x04\\\\x00\\\\x04\\\\x00\\\\x83\\\\x03\\\\x01\\\\x00n\\\\x101\\\\x00s(0\\\\x00\\\\x01\\\\x00\\\\x01\\\\x00\\\\x01\\\\x00Y\\\\x00\\\\x01\\\\x00t\\\\x00d\\\\x02d\\\\x03\\\\x83\\\\x02\\\\x8f\\\\x1e}\\\\x02|\\\\x02\\\\xa0\\\\x02|\\\\x03d\\\\x04\\\\x14\\\\x00\\\\xa1\\\\x01\\\\x01\\\\x00W\\\\x00d\\\\x00\\\\x04\\\\x00\\\\x04\\\\x00\\\\x83\\\\x03\\\\x01\\\\x00n\\\\x101\\\\x00s`0\\\\x00\\\\x01\\\\x00\\\\x01\\\\x00\\\\x01\\\\x00Y\\\\x00\\\\x01\\\\x00|\\\\x00d\\\\x04\\\\x14\\\\x00t\\\\x03d\\\\x02\\\\x83\\\\x01d\\\\x05\\\\x9c\\\\x02S\\\\x00\\\\x94(N\\\\x8c\\\\x01r\\\\x94\\\\x8c\\\\x07bar.txt\\\\x94\\\\x8c\\\\x01w\\\\x94K\\\\x02\\\\x8c\\\\x03num\\\\x94\\\\x8c\\\\x03bar\\\\x94\\\\x86\\\\x94t\\\\x94(\\\\x8c\\\\x04open\\\\x94\\\\x8c\\\\x04read\\\\x94\\\\x8c\\\\x05write\\\\x94\\\\x8c\\\\x04Path\\\\x94t\\\\x94(h\\\\x0c\\\\x8c\\\\x03foo\\\\x94\\\\x8c\\\\x01f\\\\x94\\\\x8c\\\\x07content\\\\x94t\\\\x94\\\\x8cM/var/folders/d4/l3f9yxc52tdgthsjprjfwmbr0000gn/T/ipykernel_94045/398309965.py\\\\x94\\\\x8c\\\\tduplicate\\\\x94K\\\\x04C\\\\x0e\\\\x00\\\\x02\\\\x0c\\\\x01&\\\\x01\\\\x0c\\\\x01,\\\\x02\\\\x06\\\\x01\\\\x06\\\\xfe\\\\x94))t\\\\x94R\\\\x94}\\\\x94(\\\\x8c\\\\x0b__package__\\\\x94N\\\\x8c\\\\x08__name__\\\\x94\\\\x8c\\\\x08__main__\\\\x94uNNNt\\\\x94R\\\\x94\\\\x8c\\\\x1ccloudpickle.cloudpickle_fast\\\\x94\\\\x8c\\\\x12_function_setstate\\\\x94\\\\x93\\\\x94h#}\\\\x94}\\\\x94(h h\\\\x1a\\\\x8c\\\\x0c__qualname__\\\\x94h\\\\x1a\\\\x8c\\\\x0f__annotations__\\\\x94}\\\\x94(h\\\\x0c\\\\x8c\\\\x08builtins\\\\x94\\\\x8c\\\\x03int\\\\x94\\\\x93\\\\x94h\\\\x15\\\\x8c\\\\x11dflow.python.opio\\\\x94\\\\x8c\\\\x08Artifact\\\\x94\\\\x93\\\\x94)\\\\x81\\\\x94}\\\\x94(\\\\x8c\\\\x04type\\\\x94\\\\x8c\\\\x07pathlib\\\\x94h\\\\x13\\\\x93\\\\x94\\\\x8c\\\\x07archive\\\\x94\\\\x8c\\\\x03tar\\\\x94\\\\x8c\\\\x04save\\\\x94N\\\\x8c\\\\x08optional\\\\x94\\\\x89\\\\x8c\\\\x0bglobal_name\\\\x94N\\\\x8c\\\\x08sub_path\\\\x94\\\\x88ub\\\\x8c\\\\x06return\\\\x94}\\\\x94(h\\\\x0ch.h\\\\rh1)\\\\x81\\\\x94}\\\\x94(h4h6h7h8h9Nh:\\\\x89h;Nh<\\\\x88ubuu\\\\x8c\\\\x0e__kwdefaults__\\\\x94N\\\\x8c\\\\x0c__defaults__\\\\x94N\\\\x8c\\\\n__module__\\\\x94h!\\\\x8c\\\\x07__doc__\\\\x94N\\\\x8c\\\\x0b__closure__\\\\x94N\\\\x8c\\\\x17_cloudpickle_submodules\\\\x94]\\\\x94\\\\x8c\\\\x0b__globals__\\\\x94}\\\\x94h\\\\x13h6su\\\\x86\\\\x94\\\\x86R0.\\'))\\nimport os, sys, traceback, jsonpickle\\nfrom dflow.python import OPIO, TransientError, FatalError\\nfrom dflow.python.utils import handle_input_artifact, handle_input_parameter\\nfrom dflow.python.utils import handle_output_artifact, handle_output_parameter\\nfrom __main__ import duplicate\\n\\nop_obj = duplicate\\ninput = OPIO()\\ninput_sign = duplicate.get_input_sign()\\noutput_sign = duplicate.get_output_sign()\\ninput[\\'num\\'] = handle_input_parameter(\\'num\\', r\\'\\'\\'{{inputs.parameters.num}}\\'\\'\\', input_sign[\\'num\\'], None, \\'/tmp\\')\\ninput[\\'foo\\'] = handle_input_artifact(\\'foo\\', input_sign[\\'foo\\'], None, \\'/tmp\\')\\ntry:\\n    output = op_obj.execute(input)\\nexcept TransientError:\\n    traceback.print_exc()\\n    sys.exit(1)\\nexcept FatalError:\\n    traceback.print_exc()\\n    sys.exit(2)\\nos.makedirs(\\'/tmp/outputs/parameters\\', exist_ok=True)\\nos.makedirs(\\'/tmp/outputs/artifacts\\', exist_ok=True)\\nhandle_output_parameter(\\'num\\', output[\\'num\\'], output_sign[\\'num\\'], None, \\'/tmp\\')\\nhandle_output_artifact(\\'bar\\', output[\\'bar\\'], output_sign[\\'bar\\'], None, \\'/tmp\\')\\n\"\"\")\\nimport json\\nfrom dpdispatcher import Machine, Resources, Task, Submission\\nmachine = Machine.load_from_dict(json.loads(\\'{\"batch_type\": \"Bohrium\", \"context_type\": \"Bohrium\", \"local_root\": \"/\", \"remote_profile\": {\"hostname\": null, \"username\": \"root\", \"port\": 22, \"timeout\": 10, \"email\": \"<your-bohrium-email>\", \"password\": \"<your-bohrium-password>\", \"program_id\": 2426, \"input_data\": {\"job_type\": \"container\", \"platform\": \"ali\", \"scass_type\": \"c4_m8_cpu\", \"job_name\": \"{{pod.name}}\", \"image_name\": \"python:3.8\"}}, \"remote_root\": \"/home/root/dflow/workflows\"}\\'))\\nresources = Resources.load_from_dict(json.loads(\\'{\"number_node\": 1, \"cpu_per_node\": 1, \"group_size\": 5, \"envs\": {\"DFLOW_WORKFLOW\": \"{{workflow.name}}\", \"DFLOW_POD\": \"{{pod.name}}\"}}\\'))\\ntask = Task.load_from_dict(json.loads(\\'{\"task_work_path\": \"./\", \"outlog\": \"log\", \"errlog\": \"err\", \"command\": \"if [ \\\\\\\\\\\\\"$(head -n 1 script)\\\\\\\\\\\\\" != \\\\\\\\\\\\\"# modified by dflow\\\\\\\\\\\\\" ]; then sed -i \\\\\\\\\\\\\"s#/tmp#$(pwd)/tmp#g\\\\\\\\\\\\\" script; sed -i \\\\\\\\\\\\\"1i # modified by dflow\\\\\\\\\\\\\" script; fi && python3 script\", \"forward_files\": [\"script\", \".//tmp/inputs/artifacts/foo\", \".//tmp/inputs/artifacts/dflow_python_packages\"], \"backward_files\": [\".//tmp/outputs/artifacts/bar\", \".//tmp/outputs/parameters/num\"]}\\'))\\ntask.forward_files = list(filter(os.path.exists, task.forward_files))\\nfor f in task.backward_files:\\n    os.makedirs(os.path.dirname(f), exist_ok=True)\\nsubmission = Submission(work_base=\\'.\\', machine=machine, resources=resources, task_list=[task])\\nsubmission.run_submission()\\n'}, 'volumes': [{'name': 'dflow-private-key', 'hostPath': {'path': '/home/docker/.ssh'}}]}], 'entrypoint': 'dispatcher-bohrium-steps', 'arguments': {}, 'serviceAccountName': 'argo', 'podGC': {}}, 'status': {'startedAt': None, 'finishedAt': None}}"
      ]
     },
     "execution_count": 6,
     "metadata": {},
     "output_type": "execute_result"
    }
   ],
   "source": [
    "wf.submit()"
   ]
  },
  {
   "cell_type": "markdown",
   "id": "fcb86911",
   "metadata": {},
   "source": [
    "# <a name=\"Argo-UI\"></a> Argo UI"
   ]
  },
  {
   "cell_type": "markdown",
   "id": "a892ecb3",
   "metadata": {},
   "source": [
    "After finishing the previous steps, we can access the workflow we just ran on the UI (https://127.0.0.1:2746)"
   ]
  }
 ],
 "metadata": {
  "kernelspec": {
   "display_name": "Python 3.9.7 ('base')",
   "language": "python",
   "name": "python3"
  },
  "language_info": {
   "codemirror_mode": {
    "name": "ipython",
    "version": 3
   },
   "file_extension": ".py",
   "mimetype": "text/x-python",
   "name": "python",
   "nbconvert_exporter": "python",
   "pygments_lexer": "ipython3",
   "version": "3.9.7"
  },
  "vscode": {
   "interpreter": {
    "hash": "0d3b56f35093c43ef3a807ec55a8177d3d51ef411c9a162a01ec53961f392e60"
   }
  }
 },
 "nbformat": 4,
 "nbformat_minor": 5
}
