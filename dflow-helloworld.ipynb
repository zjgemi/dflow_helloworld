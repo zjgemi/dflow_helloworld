{
 "cells": [
  {
   "cell_type": "markdown",
   "id": "c39ba0f6",
   "metadata": {},
   "source": [
    "# <a name=\"hello-world\"></a> A hello-world example of dflow"
   ]
  },
  {
   "cell_type": "markdown",
   "id": "46c8409e",
   "metadata": {},
   "source": [
    "Define a Python OP"
   ]
  },
  {
   "cell_type": "code",
   "execution_count": 1,
   "id": "bf4691c3",
   "metadata": {},
   "outputs": [],
   "source": [
    "from pathlib import Path\n",
    "from dflow.python import OP, Artifact\n",
    "\n",
    "@OP.function\n",
    "def duplicate(num: int, foo: Artifact(Path)) -> {\"num\": int, \"bar\": Artifact(Path)}:\n",
    "    with open(foo, \"r\") as f:\n",
    "        content = f.read()\n",
    "    with open(\"bar.txt\", \"w\") as f:\n",
    "        f.write(content * 2)\n",
    "    return {\n",
    "        \"num\": num * 2,\n",
    "        \"bar\": Path(\"bar.txt\"),\n",
    "    }"
   ]
  },
  {
   "cell_type": "markdown",
   "id": "b396f8ed",
   "metadata": {},
   "source": [
    "Upload the input file"
   ]
  },
  {
   "cell_type": "code",
   "execution_count": 2,
   "id": "0fd9bdf4",
   "metadata": {},
   "outputs": [],
   "source": [
    "from dflow import upload_artifact\n",
    "\n",
    "with open(\"foo.txt\", \"w\") as f:\n",
    "    f.write(\"Hello\")\n",
    "art = upload_artifact(\"foo.txt\")"
   ]
  },
  {
   "cell_type": "markdown",
   "id": "948010a9",
   "metadata": {},
   "source": [
    "Instantiate a step with the dispatcher executor and the uploaded artifact"
   ]
  },
  {
   "cell_type": "code",
   "execution_count": 3,
   "id": "e1028047",
   "metadata": {},
   "outputs": [],
   "source": [
    "from dflow.python import PythonOPTemplate\n",
    "from dflow import Step\n",
    "\n",
    "step1 = Step(\n",
    "    name=\"step1\",\n",
    "    template=PythonOPTemplate(duplicate, image=\"python:3.8\"),\n",
    "    parameters={\"num\": 1},\n",
    "    artifacts={\"foo\": art},\n",
    ")\n",
    "\n",
    "step2 = Step(\n",
    "    name=\"step2\",\n",
    "    template=PythonOPTemplate(duplicate, image=\"python:3.8\"),\n",
    "    parameters={\"num\": step1.outputs.parameters[\"num\"]},\n",
    "    artifacts={\"foo\": step1.outputs.artifacts[\"bar\"]},\n",
    ")"
   ]
  },
  {
   "cell_type": "markdown",
   "id": "88e2c217",
   "metadata": {},
   "source": [
    "Add step into a workflow"
   ]
  },
  {
   "cell_type": "code",
   "execution_count": 4,
   "id": "c5510220",
   "metadata": {},
   "outputs": [],
   "source": [
    "from dflow import Workflow\n",
    "\n",
    "wf = Workflow(name=\"python-test\")\n",
    "wf.add(step1)\n",
    "wf.add(step2)"
   ]
  },
  {
   "cell_type": "markdown",
   "id": "6a2aa4bf",
   "metadata": {},
   "source": [
    "Submit the workflow"
   ]
  },
  {
   "cell_type": "code",
   "execution_count": 5,
   "id": "fea0ef8b",
   "metadata": {},
   "outputs": [
    {
     "name": "stdout",
     "output_type": "stream",
     "text": [
      "Workflow has been submitted (ID: python-test-2gcvt, UID: ddb20a1d-e8fb-4442-bbd3-602dc8fcfb1f)\n"
     ]
    },
    {
     "data": {
      "text/plain": [
       "{'metadata': {'name': 'python-test-2gcvt', 'generateName': 'python-test-', 'namespace': 'argo', 'uid': 'ddb20a1d-e8fb-4442-bbd3-602dc8fcfb1f', 'resourceVersion': '2206743', 'generation': 1, 'creationTimestamp': '2022-11-30T03:07:47Z', 'labels': {'workflows.argoproj.io/creator': 'system-serviceaccount-argo-argo-server'}, 'managedFields': [{'manager': 'argo', 'operation': 'Update', 'apiVersion': 'argoproj.io/v1alpha1', 'time': '2022-11-30T03:07:47Z', 'fieldsType': 'FieldsV1', 'fieldsV1': {'f:metadata': {'f:generateName': {}, 'f:labels': {'.': {}, 'f:workflows.argoproj.io/creator': {}}}, 'f:spec': {}, 'f:status': {}}}]}, 'spec': {'templates': [{'name': 'python-test-steps', 'inputs': {}, 'outputs': {}, 'metadata': {}, 'steps': [[{'name': 'step1', 'template': 'duplicate-cpxog', 'arguments': {'parameters': [{'name': 'num', 'value': '1', 'description': '{\"type\": \"<class \\'int\\'>\"}'}], 'artifacts': [{'name': 'foo', 'path': '/tmp/inputs/artifacts/foo', 's3': {'key': 'upload/ba6a4ae7-5735-4bf6-a2ea-8adcd487998e/tmpsotkb0g2.tgz'}}, {'name': 'dflow_python_packages', 'path': '/tmp/inputs/artifacts/dflow_python_packages', 's3': {'key': 'upload/cd941a06-249c-44cf-ab72-f03d16932739/tmp2t2u57q1.tgz'}}]}, 'continueOn': {}}], [{'name': 'step2', 'template': 'duplicate-9ely1', 'arguments': {'parameters': [{'name': 'num', 'value': \"{{=steps['step1'].outputs.parameters['num']}}\", 'description': '{\"type\": \"<class \\'int\\'>\"}'}], 'artifacts': [{'name': 'foo', 'path': '/tmp/inputs/artifacts/foo', 'from': '{{steps.step1.outputs.artifacts.bar}}'}, {'name': 'dflow_python_packages', 'path': '/tmp/inputs/artifacts/dflow_python_packages', 's3': {'key': 'upload/cd941a06-249c-44cf-ab72-f03d16932739/tmp2t2u57q1.tgz'}}]}, 'continueOn': {}}]]}, {'name': 'duplicate-cpxog', 'inputs': {'parameters': [{'name': 'num', 'description': '{\"type\": \"<class \\'int\\'>\"}'}], 'artifacts': [{'name': 'foo', 'path': '/tmp/inputs/artifacts/foo'}, {'name': 'dflow_python_packages', 'path': '/tmp/inputs/artifacts/dflow_python_packages'}]}, 'outputs': {'parameters': [{'name': 'num', 'valueFrom': {'path': '/tmp/outputs/parameters/num', 'default': 'null'}, 'description': '{\"type\": \"<class \\'int\\'>\"}'}], 'artifacts': [{'name': 'bar', 'path': '/tmp/outputs/artifacts/bar'}]}, 'metadata': {'annotations': {'workflows.argoproj.io/progress': '0/1'}}, 'script': {'name': '', 'image': 'python:3.8', 'command': ['python3'], 'resources': {}, 'source': 'import os, sys, json\\npackage_root = \\'/tmp/inputs/artifacts/dflow_python_packages\\'\\ncatalog_dir = os.path.join(package_root, \\'.dflow\\')\\nif os.path.exists(catalog_dir):\\n    for f in os.listdir(catalog_dir):\\n        with open(os.path.join(catalog_dir, f), \\'r\\') as fd:\\n            for item in json.load(fd)[\\'path_list\\']:\\n                sys.path.insert(0, os.path.join(package_root, os.path.dirname(item[\\'dflow_list_item\\'])))\\nimport json, jsonpickle\\nfrom dflow import config, s3_config\\nconfig.update(json.loads(\\'{\"host\": \"https://127.0.0.1:2746\", \"namespace\": \"argo\", \"token\": null, \"k8s_config_file\": null, \"k8s_api_server\": null, \"private_key_host_path\": \"/home/docker/.ssh\", \"save_path_as_parameter\": false, \"catalog_dir_name\": \".dflow\", \"archive_mode\": \"tar\", \"util_image\": \"python:3.8\", \"util_image_pull_policy\": null, \"extender_image\": \"dptechnology/dflow-extender\", \"extender_image_pull_policy\": null, \"dispatcher_image\": \"dptechnology/dpdispatcher\", \"dispatcher_image_pull_policy\": null, \"save_keys_in_global_outputs\": true, \"mode\": \"default\"}\\'))\\ns3_config.update(jsonpickle.loads(\\'{\"endpoint\": \"127.0.0.1:9000\", \"console\": \"http://127.0.0.1:9001\", \"access_key\": \"admin\", \"secret_key\": \"password\", \"secure\": false, \"bucket_name\": \"my-bucket\", \"repo_key\": null, \"repo\": null, \"repo_type\": \"s3\", \"repo_prefix\": \"\", \"prefix\": \"\", \"storage_client\": null}\\'))\\nimport cloudpickle\\nfrom dflow.python import OP\\nduplicate = OP.function(cloudpickle.loads(b\\'\\\\x80\\\\x05\\\\x95\\\\x92\\\\x03\\\\x00\\\\x00\\\\x00\\\\x00\\\\x00\\\\x00\\\\x8c\\\\x17cloudpickle.cloudpickle\\\\x94\\\\x8c\\\\x0e_make_function\\\\x94\\\\x93\\\\x94(h\\\\x00\\\\x8c\\\\r_builtin_type\\\\x94\\\\x93\\\\x94\\\\x8c\\\\x08CodeType\\\\x94\\\\x85\\\\x94R\\\\x94(K\\\\x02K\\\\x00K\\\\x00K\\\\x04K\\\\x08KCC|t\\\\x00|\\\\x01d\\\\x01\\\\x83\\\\x02\\\\x8f\\\\x18}\\\\x02|\\\\x02\\\\xa0\\\\x01\\\\xa1\\\\x00}\\\\x03W\\\\x00d\\\\x00\\\\x04\\\\x00\\\\x04\\\\x00\\\\x83\\\\x03\\\\x01\\\\x00n\\\\x101\\\\x00s(0\\\\x00\\\\x01\\\\x00\\\\x01\\\\x00\\\\x01\\\\x00Y\\\\x00\\\\x01\\\\x00t\\\\x00d\\\\x02d\\\\x03\\\\x83\\\\x02\\\\x8f\\\\x1e}\\\\x02|\\\\x02\\\\xa0\\\\x02|\\\\x03d\\\\x04\\\\x14\\\\x00\\\\xa1\\\\x01\\\\x01\\\\x00W\\\\x00d\\\\x00\\\\x04\\\\x00\\\\x04\\\\x00\\\\x83\\\\x03\\\\x01\\\\x00n\\\\x101\\\\x00s`0\\\\x00\\\\x01\\\\x00\\\\x01\\\\x00\\\\x01\\\\x00Y\\\\x00\\\\x01\\\\x00|\\\\x00d\\\\x04\\\\x14\\\\x00t\\\\x03d\\\\x02\\\\x83\\\\x01d\\\\x05\\\\x9c\\\\x02S\\\\x00\\\\x94(N\\\\x8c\\\\x01r\\\\x94\\\\x8c\\\\x07bar.txt\\\\x94\\\\x8c\\\\x01w\\\\x94K\\\\x02\\\\x8c\\\\x03num\\\\x94\\\\x8c\\\\x03bar\\\\x94\\\\x86\\\\x94t\\\\x94(\\\\x8c\\\\x04open\\\\x94\\\\x8c\\\\x04read\\\\x94\\\\x8c\\\\x05write\\\\x94\\\\x8c\\\\x04Path\\\\x94t\\\\x94(h\\\\x0c\\\\x8c\\\\x03foo\\\\x94\\\\x8c\\\\x01f\\\\x94\\\\x8c\\\\x07content\\\\x94t\\\\x94\\\\x8cN/var/folders/d4/l3f9yxc52tdgthsjprjfwmbr0000gn/T/ipykernel_36099/2276472566.py\\\\x94\\\\x8c\\\\tduplicate\\\\x94K\\\\x04C\\\\x0e\\\\x00\\\\x02\\\\x0c\\\\x01&\\\\x01\\\\x0c\\\\x01,\\\\x02\\\\x06\\\\x01\\\\x06\\\\xfe\\\\x94))t\\\\x94R\\\\x94}\\\\x94(\\\\x8c\\\\x0b__package__\\\\x94N\\\\x8c\\\\x08__name__\\\\x94\\\\x8c\\\\x08__main__\\\\x94uNNNt\\\\x94R\\\\x94\\\\x8c\\\\x1ccloudpickle.cloudpickle_fast\\\\x94\\\\x8c\\\\x12_function_setstate\\\\x94\\\\x93\\\\x94h#}\\\\x94}\\\\x94(h h\\\\x1a\\\\x8c\\\\x0c__qualname__\\\\x94h\\\\x1a\\\\x8c\\\\x0f__annotations__\\\\x94}\\\\x94(h\\\\x0c\\\\x8c\\\\x08builtins\\\\x94\\\\x8c\\\\x03int\\\\x94\\\\x93\\\\x94h\\\\x15\\\\x8c\\\\x11dflow.python.opio\\\\x94\\\\x8c\\\\x08Artifact\\\\x94\\\\x93\\\\x94)\\\\x81\\\\x94}\\\\x94(\\\\x8c\\\\x04type\\\\x94\\\\x8c\\\\x07pathlib\\\\x94h\\\\x13\\\\x93\\\\x94\\\\x8c\\\\x07archive\\\\x94\\\\x8c\\\\x03tar\\\\x94\\\\x8c\\\\x04save\\\\x94N\\\\x8c\\\\x08optional\\\\x94\\\\x89\\\\x8c\\\\x0bglobal_name\\\\x94N\\\\x8c\\\\x08sub_path\\\\x94\\\\x88ub\\\\x8c\\\\x06return\\\\x94}\\\\x94(h\\\\x0ch.h\\\\rh1)\\\\x81\\\\x94}\\\\x94(h4h6h7h8h9Nh:\\\\x89h;Nh<\\\\x88ubuu\\\\x8c\\\\x0e__kwdefaults__\\\\x94N\\\\x8c\\\\x0c__defaults__\\\\x94N\\\\x8c\\\\n__module__\\\\x94h!\\\\x8c\\\\x07__doc__\\\\x94N\\\\x8c\\\\x0b__closure__\\\\x94N\\\\x8c\\\\x17_cloudpickle_submodules\\\\x94]\\\\x94\\\\x8c\\\\x0b__globals__\\\\x94}\\\\x94h\\\\x13h6su\\\\x86\\\\x94\\\\x86R0.\\'))\\nimport os, sys, traceback, jsonpickle\\nfrom dflow.python import OPIO, TransientError, FatalError\\nfrom dflow.python.utils import handle_input_artifact, handle_input_parameter\\nfrom dflow.python.utils import handle_output_artifact, handle_output_parameter\\nfrom __main__ import duplicate\\n\\nif __name__ == \\'__main__\\':\\n    op_obj = duplicate\\n    input = OPIO()\\n    input_sign = duplicate.get_input_sign()\\n    output_sign = duplicate.get_output_sign()\\n    input[\\'num\\'] = handle_input_parameter(\\'num\\', r\\'\\'\\'{{inputs.parameters.num}}\\'\\'\\', input_sign[\\'num\\'], None, \\'/tmp\\')\\n    input[\\'foo\\'] = handle_input_artifact(\\'foo\\', input_sign[\\'foo\\'], None, \\'/tmp\\')\\n    try:\\n        output = op_obj.execute(input)\\n    except TransientError:\\n        traceback.print_exc()\\n        sys.exit(1)\\n    except FatalError:\\n        traceback.print_exc()\\n        sys.exit(2)\\n    os.makedirs(\\'/tmp/outputs/parameters\\', exist_ok=True)\\n    os.makedirs(\\'/tmp/outputs/artifacts\\', exist_ok=True)\\n    handle_output_parameter(\\'num\\', output[\\'num\\'], output_sign[\\'num\\'], None, \\'/tmp\\')\\n    handle_output_artifact(\\'bar\\', output[\\'bar\\'], output_sign[\\'bar\\'], None, \\'/tmp\\')\\n'}}, {'name': 'duplicate-9ely1', 'inputs': {'parameters': [{'name': 'num', 'description': '{\"type\": \"<class \\'int\\'>\"}'}], 'artifacts': [{'name': 'foo', 'path': '/tmp/inputs/artifacts/foo'}, {'name': 'dflow_python_packages', 'path': '/tmp/inputs/artifacts/dflow_python_packages'}]}, 'outputs': {'parameters': [{'name': 'num', 'valueFrom': {'path': '/tmp/outputs/parameters/num', 'default': 'null'}, 'description': '{\"type\": \"<class \\'int\\'>\"}'}], 'artifacts': [{'name': 'bar', 'path': '/tmp/outputs/artifacts/bar'}]}, 'metadata': {'annotations': {'workflows.argoproj.io/progress': '0/1'}}, 'script': {'name': '', 'image': 'python:3.8', 'command': ['python3'], 'resources': {}, 'source': 'import os, sys, json\\npackage_root = \\'/tmp/inputs/artifacts/dflow_python_packages\\'\\ncatalog_dir = os.path.join(package_root, \\'.dflow\\')\\nif os.path.exists(catalog_dir):\\n    for f in os.listdir(catalog_dir):\\n        with open(os.path.join(catalog_dir, f), \\'r\\') as fd:\\n            for item in json.load(fd)[\\'path_list\\']:\\n                sys.path.insert(0, os.path.join(package_root, os.path.dirname(item[\\'dflow_list_item\\'])))\\nimport json, jsonpickle\\nfrom dflow import config, s3_config\\nconfig.update(json.loads(\\'{\"host\": \"https://127.0.0.1:2746\", \"namespace\": \"argo\", \"token\": null, \"k8s_config_file\": null, \"k8s_api_server\": null, \"private_key_host_path\": \"/home/docker/.ssh\", \"save_path_as_parameter\": false, \"catalog_dir_name\": \".dflow\", \"archive_mode\": \"tar\", \"util_image\": \"python:3.8\", \"util_image_pull_policy\": null, \"extender_image\": \"dptechnology/dflow-extender\", \"extender_image_pull_policy\": null, \"dispatcher_image\": \"dptechnology/dpdispatcher\", \"dispatcher_image_pull_policy\": null, \"save_keys_in_global_outputs\": true, \"mode\": \"default\"}\\'))\\ns3_config.update(jsonpickle.loads(\\'{\"endpoint\": \"127.0.0.1:9000\", \"console\": \"http://127.0.0.1:9001\", \"access_key\": \"admin\", \"secret_key\": \"password\", \"secure\": false, \"bucket_name\": \"my-bucket\", \"repo_key\": null, \"repo\": null, \"repo_type\": \"s3\", \"repo_prefix\": \"\", \"prefix\": \"\", \"storage_client\": null}\\'))\\nimport cloudpickle\\nfrom dflow.python import OP\\nduplicate = OP.function(cloudpickle.loads(b\\'\\\\x80\\\\x05\\\\x95\\\\x92\\\\x03\\\\x00\\\\x00\\\\x00\\\\x00\\\\x00\\\\x00\\\\x8c\\\\x17cloudpickle.cloudpickle\\\\x94\\\\x8c\\\\x0e_make_function\\\\x94\\\\x93\\\\x94(h\\\\x00\\\\x8c\\\\r_builtin_type\\\\x94\\\\x93\\\\x94\\\\x8c\\\\x08CodeType\\\\x94\\\\x85\\\\x94R\\\\x94(K\\\\x02K\\\\x00K\\\\x00K\\\\x04K\\\\x08KCC|t\\\\x00|\\\\x01d\\\\x01\\\\x83\\\\x02\\\\x8f\\\\x18}\\\\x02|\\\\x02\\\\xa0\\\\x01\\\\xa1\\\\x00}\\\\x03W\\\\x00d\\\\x00\\\\x04\\\\x00\\\\x04\\\\x00\\\\x83\\\\x03\\\\x01\\\\x00n\\\\x101\\\\x00s(0\\\\x00\\\\x01\\\\x00\\\\x01\\\\x00\\\\x01\\\\x00Y\\\\x00\\\\x01\\\\x00t\\\\x00d\\\\x02d\\\\x03\\\\x83\\\\x02\\\\x8f\\\\x1e}\\\\x02|\\\\x02\\\\xa0\\\\x02|\\\\x03d\\\\x04\\\\x14\\\\x00\\\\xa1\\\\x01\\\\x01\\\\x00W\\\\x00d\\\\x00\\\\x04\\\\x00\\\\x04\\\\x00\\\\x83\\\\x03\\\\x01\\\\x00n\\\\x101\\\\x00s`0\\\\x00\\\\x01\\\\x00\\\\x01\\\\x00\\\\x01\\\\x00Y\\\\x00\\\\x01\\\\x00|\\\\x00d\\\\x04\\\\x14\\\\x00t\\\\x03d\\\\x02\\\\x83\\\\x01d\\\\x05\\\\x9c\\\\x02S\\\\x00\\\\x94(N\\\\x8c\\\\x01r\\\\x94\\\\x8c\\\\x07bar.txt\\\\x94\\\\x8c\\\\x01w\\\\x94K\\\\x02\\\\x8c\\\\x03num\\\\x94\\\\x8c\\\\x03bar\\\\x94\\\\x86\\\\x94t\\\\x94(\\\\x8c\\\\x04open\\\\x94\\\\x8c\\\\x04read\\\\x94\\\\x8c\\\\x05write\\\\x94\\\\x8c\\\\x04Path\\\\x94t\\\\x94(h\\\\x0c\\\\x8c\\\\x03foo\\\\x94\\\\x8c\\\\x01f\\\\x94\\\\x8c\\\\x07content\\\\x94t\\\\x94\\\\x8cN/var/folders/d4/l3f9yxc52tdgthsjprjfwmbr0000gn/T/ipykernel_36099/2276472566.py\\\\x94\\\\x8c\\\\tduplicate\\\\x94K\\\\x04C\\\\x0e\\\\x00\\\\x02\\\\x0c\\\\x01&\\\\x01\\\\x0c\\\\x01,\\\\x02\\\\x06\\\\x01\\\\x06\\\\xfe\\\\x94))t\\\\x94R\\\\x94}\\\\x94(\\\\x8c\\\\x0b__package__\\\\x94N\\\\x8c\\\\x08__name__\\\\x94\\\\x8c\\\\x08__main__\\\\x94uNNNt\\\\x94R\\\\x94\\\\x8c\\\\x1ccloudpickle.cloudpickle_fast\\\\x94\\\\x8c\\\\x12_function_setstate\\\\x94\\\\x93\\\\x94h#}\\\\x94}\\\\x94(h h\\\\x1a\\\\x8c\\\\x0c__qualname__\\\\x94h\\\\x1a\\\\x8c\\\\x0f__annotations__\\\\x94}\\\\x94(h\\\\x0c\\\\x8c\\\\x08builtins\\\\x94\\\\x8c\\\\x03int\\\\x94\\\\x93\\\\x94h\\\\x15\\\\x8c\\\\x11dflow.python.opio\\\\x94\\\\x8c\\\\x08Artifact\\\\x94\\\\x93\\\\x94)\\\\x81\\\\x94}\\\\x94(\\\\x8c\\\\x04type\\\\x94\\\\x8c\\\\x07pathlib\\\\x94h\\\\x13\\\\x93\\\\x94\\\\x8c\\\\x07archive\\\\x94\\\\x8c\\\\x03tar\\\\x94\\\\x8c\\\\x04save\\\\x94N\\\\x8c\\\\x08optional\\\\x94\\\\x89\\\\x8c\\\\x0bglobal_name\\\\x94N\\\\x8c\\\\x08sub_path\\\\x94\\\\x88ub\\\\x8c\\\\x06return\\\\x94}\\\\x94(h\\\\x0ch.h\\\\rh1)\\\\x81\\\\x94}\\\\x94(h4h6h7h8h9Nh:\\\\x89h;Nh<\\\\x88ubuu\\\\x8c\\\\x0e__kwdefaults__\\\\x94N\\\\x8c\\\\x0c__defaults__\\\\x94N\\\\x8c\\\\n__module__\\\\x94h!\\\\x8c\\\\x07__doc__\\\\x94N\\\\x8c\\\\x0b__closure__\\\\x94N\\\\x8c\\\\x17_cloudpickle_submodules\\\\x94]\\\\x94\\\\x8c\\\\x0b__globals__\\\\x94}\\\\x94h\\\\x13h6su\\\\x86\\\\x94\\\\x86R0.\\'))\\nimport os, sys, traceback, jsonpickle\\nfrom dflow.python import OPIO, TransientError, FatalError\\nfrom dflow.python.utils import handle_input_artifact, handle_input_parameter\\nfrom dflow.python.utils import handle_output_artifact, handle_output_parameter\\nfrom __main__ import duplicate\\n\\nif __name__ == \\'__main__\\':\\n    op_obj = duplicate\\n    input = OPIO()\\n    input_sign = duplicate.get_input_sign()\\n    output_sign = duplicate.get_output_sign()\\n    input[\\'num\\'] = handle_input_parameter(\\'num\\', r\\'\\'\\'{{inputs.parameters.num}}\\'\\'\\', input_sign[\\'num\\'], None, \\'/tmp\\')\\n    input[\\'foo\\'] = handle_input_artifact(\\'foo\\', input_sign[\\'foo\\'], None, \\'/tmp\\')\\n    try:\\n        output = op_obj.execute(input)\\n    except TransientError:\\n        traceback.print_exc()\\n        sys.exit(1)\\n    except FatalError:\\n        traceback.print_exc()\\n        sys.exit(2)\\n    os.makedirs(\\'/tmp/outputs/parameters\\', exist_ok=True)\\n    os.makedirs(\\'/tmp/outputs/artifacts\\', exist_ok=True)\\n    handle_output_parameter(\\'num\\', output[\\'num\\'], output_sign[\\'num\\'], None, \\'/tmp\\')\\n    handle_output_artifact(\\'bar\\', output[\\'bar\\'], output_sign[\\'bar\\'], None, \\'/tmp\\')\\n'}}], 'entrypoint': 'python-test-steps', 'arguments': {}, 'serviceAccountName': 'argo', 'podGC': {}}, 'status': {'startedAt': None, 'finishedAt': None}}"
      ]
     },
     "execution_count": 5,
     "metadata": {},
     "output_type": "execute_result"
    }
   ],
   "source": [
    "wf.submit()"
   ]
  },
  {
   "cell_type": "markdown",
   "id": "fcb86911",
   "metadata": {},
   "source": [
    "# <a name=\"Argo-UI\"></a> Argo UI"
   ]
  },
  {
   "cell_type": "markdown",
   "id": "a892ecb3",
   "metadata": {},
   "source": [
    "After finishing the previous steps, we can access the workflow we just ran on the UI (https://127.0.0.1:2746)"
   ]
  }
 ],
 "metadata": {
  "kernelspec": {
   "display_name": "Python 3 (ipykernel)",
   "language": "python",
   "name": "python3"
  },
  "language_info": {
   "codemirror_mode": {
    "name": "ipython",
    "version": 3
   },
   "file_extension": ".py",
   "mimetype": "text/x-python",
   "name": "python",
   "nbconvert_exporter": "python",
   "pygments_lexer": "ipython3",
   "version": "3.9.7"
  },
  "vscode": {
   "interpreter": {
    "hash": "0d3b56f35093c43ef3a807ec55a8177d3d51ef411c9a162a01ec53961f392e60"
   }
  }
 },
 "nbformat": 4,
 "nbformat_minor": 5
}
